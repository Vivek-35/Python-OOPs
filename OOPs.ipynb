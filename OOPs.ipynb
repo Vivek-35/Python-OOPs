{
  "nbformat": 4,
  "nbformat_minor": 0,
  "metadata": {
    "colab": {
      "provenance": []
    },
    "kernelspec": {
      "name": "python3",
      "display_name": "Python 3"
    },
    "language_info": {
      "name": "python"
    }
  },
  "cells": [
    {
      "cell_type": "markdown",
      "source": [
        "# **Theory Questions**\n",
        "\n",
        "1. What is Object-Oriented Programming (OOP)?\n",
        "   - OOP is a programming paradigm based on the concept of \"objects\" which\n",
        "     contain data and methods. It helps structure code for reuse, scalability, and clarity.\n",
        "\n",
        "2. What is a class in OOP?\n",
        "   - A class is a user-defined blueprint for creating objects. It defines\n",
        "     attributes and behaviors (methods) that the objects will have.\n",
        "\n",
        "3. What is an object in OOP?\n",
        "   - An object is an instance of a class. It holds actual data and can use\n",
        "     the class-defined methods to perform actions.\n",
        "\n",
        "4. What is the difference between abstraction and encapsulation?\n",
        "   - Abstraction shows only essential features and hides the internal\n",
        "     logic. Encapsulation hides data using access control and wraps it with code.\n",
        "\n",
        "5. What are dunder methods in Python?\n",
        "   - Dunder (double underscore) methods like __init__, __str__, etc., are\n",
        "     special methods used to define object behavior in Python.\n",
        "\n",
        "6. Explain the concept of inheritance in OOP.\n",
        "   - Inheritance allows one class to use the properties and methods of\n",
        "     another. It supports code reusability and hierarchical relationships.\n",
        "\n",
        "7. What is polymorphism in OOP?\n",
        "   - Polymorphism allows the same function or method name to work in\n",
        "     different ways depending on the object or class it’s used with.\n",
        "\n",
        "8. How is encapsulation achieved in Python?\n",
        "   - Encapsulation is done by defining private variables/methods using _\n",
        "     or __. Access is controlled through getter/setter methods.\n",
        "\n",
        "9. What is a constructor in Python?\n",
        "   - A constructor is a special method (__init__) that runs automatically\n",
        "     when a new object is created, used to initialize data.\n",
        "\n",
        "10. What are class and static methods in Python?\n",
        "    - Class methods use @classmethod and take cls as a parameter to access\n",
        "      class-level data. Static methods use @staticmethod and don’t access class or instance data.\n",
        "\n",
        "11. What is method overloading in Python?\n",
        "    - Python doesn’t support traditional method overloading. Instead, you\n",
        "      can use default arguments or *args and **args to mimic it.\n",
        "\n",
        "12. What is method overriding in OOP?\n",
        "    - Method overriding is when a subclass provides a specific\n",
        "      implementation of a method already defined in its parent class.\n",
        "\n",
        "13. What is a property decorator in Python?\n",
        "    - The @property decorator lets you define getter methods that can be\n",
        "      accessed like attributes, enabling clean and safe data access.\n",
        "\n",
        "14. Why is polymorphism important in OOP?\n",
        "    - Polymorphism increases flexibility by allowing the same method to\n",
        "      behave differently for different object types, making code more reusable.\n",
        "\n",
        "15. What is an abstract class in Python?\n",
        "    - An abstract class contains one or more abstract methods (defined\n",
        "      using @abstractmethod) and cannot be instantiated directly.\n",
        "\n",
        "16. What are the advantages of OOP?\n",
        "    - OOP offers modularity, reusability, data hiding, and easier\n",
        "      maintenance by organizing code around real-world objects.\n",
        "\n",
        "17. What is the difference between a class variable and an instance\n",
        "     variable?\n",
        "    - A class variable is shared among all instances, while an instance\n",
        "      variable is unique to each object.\n",
        "\n",
        "18. What is multiple inheritance in Python?\n",
        "    - Multiple inheritance allows a class to inherit from more than one\n",
        "      parent class, combining their features.\n",
        "\n",
        "19. Explain the purpose of __str__ and __repr__ methods in Python.\n",
        "    - __str__ returns a readable string for users, while __repr__ gives a\n",
        "      developer-friendly string, often useful for debugging.\n",
        "\n",
        "20. What is the significance of the super() function in Python?\n",
        "    - super() allows you to call methods from a parent class, especially\n",
        "      useful in method overriding and multiple inheritance.\n",
        "\n",
        "21. What is the significance of the __del__ method in Python?\n",
        "    - __del__ is a destructor method called when an object is deleted,\n",
        "      used to clean up resources.\n",
        "\n",
        "22. What is the difference between @staticmethod and @classmethod in\n",
        "     Python?\n",
        "    - @staticmethod doesn’t access class or instance data.\n",
        "\n",
        "    - @classmethod takes cls and can access class variables.\n",
        "\n",
        "23. How does polymorphism work in Python with inheritance?\n",
        "    - A child class can override parent methods, and when called, the\n",
        "      correct version (based on the object) is executed.\n",
        "\n",
        "24. What is method chaining in Python OOP?\n",
        "    - Method chaining allows calling multiple methods in a single line by\n",
        "      returning self from each method.\n",
        "\n",
        "25. What is the purpose of the __call__ method in Python?\n",
        "    - __call__ makes an object callable like a function. It defines what\n",
        "      happens when you use obj() syntax.\n",
        "\n"
      ],
      "metadata": {
        "id": "rVrm3RNNDVA9"
      }
    },
    {
      "cell_type": "markdown",
      "source": [
        "# **Practical Questions**\n",
        "\n",
        "1. Create a parent class Animal with a method speak() that prints a\n",
        "   generic message. Create a child class Dog that overrides the speak() method to print \"Bark!\"."
      ],
      "metadata": {
        "id": "QWwZoeqJKnw_"
      }
    },
    {
      "cell_type": "code",
      "source": [
        "# Parent class\n",
        "class Animal:\n",
        "    def speak(self):\n",
        "        print(\"Animal speaks...\")\n",
        "\n",
        "# Child class\n",
        "class Dog(Animal):\n",
        "    def speak(self):\n",
        "        print(\"Bark!\")\n",
        "\n",
        "# Testing\n",
        "a = Animal()\n",
        "a.speak()\n",
        "d = Dog()\n",
        "d.speak()"
      ],
      "metadata": {
        "colab": {
          "base_uri": "https://localhost:8080/"
        },
        "id": "wK4lIiAJLbzR",
        "outputId": "69c6b952-d4a4-4c12-be4e-81fd9d1795d8"
      },
      "execution_count": null,
      "outputs": [
        {
          "output_type": "stream",
          "name": "stdout",
          "text": [
            "Animal speaks...\n",
            "Bark!\n"
          ]
        }
      ]
    },
    {
      "cell_type": "markdown",
      "source": [
        "2. Write a program to create an abstract class Shape with a method area().\n",
        "   Derive classes Circle and Rectangle from it and implement the area() method in both."
      ],
      "metadata": {
        "id": "RlHjmEYFLrXz"
      }
    },
    {
      "cell_type": "code",
      "source": [
        "from abc import ABC, abstractmethod\n",
        "import math\n",
        "\n",
        "# Abstract class\n",
        "class Shape(ABC):\n",
        "    @abstractmethod\n",
        "    def area(self):\n",
        "        pass\n",
        "\n",
        "# Circle class\n",
        "class Circle(Shape):\n",
        "    def __init__(self, radius):\n",
        "        self.radius = radius\n",
        "\n",
        "    def area(self):\n",
        "        return math.pi * self.radius * self.radius\n",
        "\n",
        "# Rectangle class\n",
        "class Rectangle(Shape):\n",
        "    def __init__(self, width, height):\n",
        "        self.width = width\n",
        "        self.height = height\n",
        "\n",
        "    def area(self):\n",
        "        return self.width * self.height\n",
        "\n",
        "# Testing\n",
        "c = Circle(5)\n",
        "r = Rectangle(4, 6)\n",
        "\n",
        "print(\"Circle area:\", c.area())\n",
        "print(\"Rectangle area:\", r.area())\n"
      ],
      "metadata": {
        "colab": {
          "base_uri": "https://localhost:8080/"
        },
        "id": "rBLdp7xWLwBO",
        "outputId": "bcada625-b65e-465a-c110-32186473757c"
      },
      "execution_count": null,
      "outputs": [
        {
          "output_type": "stream",
          "name": "stdout",
          "text": [
            "Circle area: 78.53981633974483\n",
            "Rectangle area: 24\n"
          ]
        }
      ]
    },
    {
      "cell_type": "markdown",
      "source": [
        "3. Implement a multi-level inheritance scenario where a class Vehicle has\n",
        "   an attribute type. Derive a class Car and further derive a class ElectricCar that adds a battery attribute."
      ],
      "metadata": {
        "id": "ukY1JyZPMEak"
      }
    },
    {
      "cell_type": "code",
      "source": [
        "# Base class\n",
        "class Vehicle:\n",
        "    def __init__(self, type):\n",
        "        self.type = type\n",
        "\n",
        "# Derived class\n",
        "class Car(Vehicle):\n",
        "    def __init__(self, type, brand):\n",
        "        super().__init__(type)\n",
        "        self.brand = brand\n",
        "\n",
        "# Further derived class\n",
        "class ElectricCar(Car):\n",
        "    def __init__(self, type, brand, battery):\n",
        "        super().__init__(type, brand)\n",
        "        self.battery = battery\n",
        "\n",
        "    def show_info(self):\n",
        "        print(f\"Type: {self.type}\")\n",
        "        print(f\"Brand: {self.brand}\")\n",
        "        print(f\"Battery: {self.battery} kWh\")\n",
        "\n",
        "# Testing\n",
        "e_car = ElectricCar(\"Electric Vehicle\", \"Tesla\", 75)\n",
        "e_car.show_info()\n"
      ],
      "metadata": {
        "colab": {
          "base_uri": "https://localhost:8080/"
        },
        "id": "FDKigmSnMKGP",
        "outputId": "9772af33-c3cc-4de0-cd35-cd1a1dfb87cc"
      },
      "execution_count": null,
      "outputs": [
        {
          "output_type": "stream",
          "name": "stdout",
          "text": [
            "Type: Electric Vehicle\n",
            "Brand: Tesla\n",
            "Battery: 75 kWh\n"
          ]
        }
      ]
    },
    {
      "cell_type": "markdown",
      "source": [
        "4. Demonstrate polymorphism by creating a base class Bird with a method\n",
        "   fly (). Create two derived classes Sparrow and Penguin that override the fly() method.\n"
      ],
      "metadata": {
        "id": "BOLbSdatMZUC"
      }
    },
    {
      "cell_type": "code",
      "source": [
        "# Base class\n",
        "class Bird:\n",
        "    def fly(self):\n",
        "        print(\"Bird is flying...\")\n",
        "\n",
        "# Derived class 1\n",
        "class Sparrow(Bird):\n",
        "    def fly(self):\n",
        "        print(\"Sparrow can fly high.\")\n",
        "\n",
        "# Derived class 2\n",
        "class Penguin(Bird):\n",
        "    def fly(self):\n",
        "        print(\"Penguins cannot fly.\")\n",
        "\n",
        "# Polymorphic behavior\n",
        "def bird_fly(bird):\n",
        "    bird.fly()\n",
        "\n",
        "# Testing\n",
        "b1 = Sparrow()\n",
        "b2 = Penguin()\n",
        "\n",
        "bird_fly(b1)\n",
        "bird_fly(b2)\n"
      ],
      "metadata": {
        "colab": {
          "base_uri": "https://localhost:8080/"
        },
        "id": "4AYzSk53Mdk-",
        "outputId": "01bea294-504c-4311-82d6-823cbd79d1d9"
      },
      "execution_count": null,
      "outputs": [
        {
          "output_type": "stream",
          "name": "stdout",
          "text": [
            "Sparrow can fly high.\n",
            "Penguins cannot fly.\n"
          ]
        }
      ]
    },
    {
      "cell_type": "markdown",
      "source": [
        "5. Write a program to demonstrate encapsulation by creating a class\n",
        "   BankAccount with private attributes balance and methods to deposit, withdraw, and check balance."
      ],
      "metadata": {
        "id": "otZYkriVQ_BG"
      }
    },
    {
      "cell_type": "code",
      "source": [
        "class BankAccount:\n",
        "    def __init__(self, initial_balance=0):\n",
        "        # Private attribute\n",
        "        self.__balance = initial_balance\n",
        "\n",
        "    # Method to deposit money\n",
        "    def deposit(self, amount):\n",
        "        if amount > 0:\n",
        "            self.__balance += amount\n",
        "            print(f\"Deposited: ${amount}\")\n",
        "        else:\n",
        "            print(\"Deposit amount must be positive.\")\n",
        "\n",
        "    # Method to withdraw money\n",
        "    def withdraw(self, amount):\n",
        "        if amount > 0:\n",
        "            if self.__balance >= amount:\n",
        "                self.__balance -= amount\n",
        "                print(f\"Withdrawn: ${amount}\")\n",
        "            else:\n",
        "                print(\"Insufficient balance.\")\n",
        "        else:\n",
        "            print(\"Withdrawal amount must be positive.\")\n",
        "\n",
        "    # Method to check balance\n",
        "    def check_balance(self):\n",
        "        print(f\"Current balance: ${self.__balance}\")\n",
        "\n",
        "# Example usage:\n",
        "account = BankAccount(100)\n",
        "account.check_balance()\n",
        "\n",
        "account.deposit(50)\n",
        "account.check_balance()\n",
        "\n",
        "account.withdraw(30)\n",
        "account.check_balance()\n",
        "\n",
        "# Trying to access private attribute directly (not recommended)\n",
        "# print(account.__balance)  # This will raise an AttributeError\n"
      ],
      "metadata": {
        "colab": {
          "base_uri": "https://localhost:8080/"
        },
        "id": "40LGVyL0RLdz",
        "outputId": "9f7dae87-0198-4d4e-8d99-65d598d4cc02"
      },
      "execution_count": 1,
      "outputs": [
        {
          "output_type": "stream",
          "name": "stdout",
          "text": [
            "Current balance: $100\n",
            "Deposited: $50\n",
            "Current balance: $150\n",
            "Withdrawn: $30\n",
            "Current balance: $120\n"
          ]
        }
      ]
    },
    {
      "cell_type": "markdown",
      "source": [
        "6. Demonstrate runtime polymorphism using a method play() in a base\n",
        "   class Instrument. Derive classes Guitar and Piano that implement their own version of play()."
      ],
      "metadata": {
        "id": "_KKGQyQLRlZN"
      }
    },
    {
      "cell_type": "code",
      "source": [
        "# Base class\n",
        "class Instrument:\n",
        "    def play(self):\n",
        "        print(\"Playing an instrument...\")\n",
        "\n",
        "# Derived class 1\n",
        "class Guitar(Instrument):\n",
        "    def play(self):\n",
        "        print(\"Strumming the guitar 🎸\")\n",
        "\n",
        "# Derived class 2\n",
        "class Piano(Instrument):\n",
        "    def play(self):\n",
        "        print(\"Playing the piano 🎹\")\n",
        "\n",
        "# Function that demonstrates runtime polymorphism\n",
        "def play_instrument(instrument):\n",
        "    instrument.play()\n",
        "\n",
        "# Example usage\n",
        "inst = Instrument()\n",
        "guitar = Guitar()\n",
        "piano = Piano()\n",
        "\n",
        "# Each call will invoke the overridden method based on the object's actual class\n",
        "play_instrument(inst)\n",
        "play_instrument(guitar)\n",
        "play_instrument(piano)\n"
      ],
      "metadata": {
        "colab": {
          "base_uri": "https://localhost:8080/"
        },
        "id": "bOkXdUcQR0pG",
        "outputId": "6c9234da-323a-4d44-c315-02742dd5dbc3"
      },
      "execution_count": 2,
      "outputs": [
        {
          "output_type": "stream",
          "name": "stdout",
          "text": [
            "Playing an instrument...\n",
            "Strumming the guitar 🎸\n",
            "Playing the piano 🎹\n"
          ]
        }
      ]
    },
    {
      "cell_type": "markdown",
      "source": [
        "7. Create a class MathOperations with a class method add_numbers() to add\n",
        "   two numbers and a static method subtract_numbers() to subtract two numbers."
      ],
      "metadata": {
        "id": "0BlimzYeSKNR"
      }
    },
    {
      "cell_type": "code",
      "source": [
        "class MathOperations:\n",
        "    # Class method\n",
        "    @classmethod\n",
        "    def add_numbers(cls, a, b):\n",
        "        return a + b\n",
        "\n",
        "    # Static method\n",
        "    @staticmethod\n",
        "    def subtract_numbers(a, b):\n",
        "        return a - b\n",
        "\n",
        "# Example usage:\n",
        "result1 = MathOperations.add_numbers(10, 5)\n",
        "print(f\"Addition result: {result1}\")\n",
        "\n",
        "result2 = MathOperations.subtract_numbers(10, 5)\n",
        "print(f\"Subtraction result: {result2}\")\n"
      ],
      "metadata": {
        "colab": {
          "base_uri": "https://localhost:8080/"
        },
        "id": "SXSzoG7ISXr6",
        "outputId": "60671d06-5d82-4404-d4bc-ffa3206050f9"
      },
      "execution_count": 3,
      "outputs": [
        {
          "output_type": "stream",
          "name": "stdout",
          "text": [
            "Addition result: 15\n",
            "Subtraction result: 5\n"
          ]
        }
      ]
    },
    {
      "cell_type": "markdown",
      "source": [
        "8. Implement a class Person with a class method to count the total number\n",
        "   of persons created."
      ],
      "metadata": {
        "id": "k8QRegyKSbV4"
      }
    },
    {
      "cell_type": "code",
      "source": [
        "class Person:\n",
        "    # Class variable to keep track of the count\n",
        "    person_count = 0\n",
        "\n",
        "    def __init__(self, name):\n",
        "        self.name = name\n",
        "        # Increment count every time a new person is created\n",
        "        Person.person_count += 1\n",
        "\n",
        "    # Class method to get total number of persons\n",
        "    @classmethod\n",
        "    def get_person_count(cls):\n",
        "        return cls.person_count\n",
        "\n",
        "# Example usage:\n",
        "p1 = Person(\"Alice\")\n",
        "p2 = Person(\"Bob\")\n",
        "p3 = Person(\"Charlie\")\n",
        "\n",
        "print(f\"Total persons created: {Person.get_person_count()}\")\n"
      ],
      "metadata": {
        "colab": {
          "base_uri": "https://localhost:8080/"
        },
        "id": "Rm_VsAgGSg8F",
        "outputId": "f4c6dd99-c5c7-4cf7-9595-cc4f84ce6e1c"
      },
      "execution_count": 4,
      "outputs": [
        {
          "output_type": "stream",
          "name": "stdout",
          "text": [
            "Total persons created: 3\n"
          ]
        }
      ]
    },
    {
      "cell_type": "markdown",
      "source": [
        "9. Write a class Fraction with attributes numerator and denominator.\n",
        "   Override the str method to display the fraction as \"numerator/denominator\"."
      ],
      "metadata": {
        "id": "0BQ6A0-uSnBk"
      }
    },
    {
      "cell_type": "code",
      "source": [
        "class Fraction:\n",
        "    def __init__(self, numerator, denominator):\n",
        "        self.numerator = numerator\n",
        "        self.denominator = denominator\n",
        "\n",
        "    # Override the str() method\n",
        "    def __str__(self):\n",
        "        return f\"{self.numerator}/{self.denominator}\"\n",
        "\n",
        "# Example usage:\n",
        "f1 = Fraction(3, 4)\n",
        "f2 = Fraction(7, 2)\n",
        "\n",
        "print(f\"First fraction: {f1}\")\n",
        "print(f\"Second fraction: {f2}\")\n"
      ],
      "metadata": {
        "colab": {
          "base_uri": "https://localhost:8080/"
        },
        "id": "lL3Om2hMSzNU",
        "outputId": "2d7cb9ac-6ff5-485e-e09f-6536f2432fc7"
      },
      "execution_count": 5,
      "outputs": [
        {
          "output_type": "stream",
          "name": "stdout",
          "text": [
            "First fraction: 3/4\n",
            "Second fraction: 7/2\n"
          ]
        }
      ]
    },
    {
      "cell_type": "markdown",
      "source": [
        "10. Demonstrate operator overloading by creating a class Vector and\n",
        "     overriding the add method to add two vectors."
      ],
      "metadata": {
        "id": "ZIWvNm58S-jJ"
      }
    },
    {
      "cell_type": "code",
      "source": [
        "class Vector:\n",
        "    def __init__(self, x, y):\n",
        "        self.x = x\n",
        "        self.y = y\n",
        "\n",
        "    # Override the + operator\n",
        "    def __add__(self, other):\n",
        "        return Vector(self.x + other.x, self.y + other.y)\n",
        "\n",
        "    # String representation\n",
        "    def __str__(self):\n",
        "        return f\"Vector({self.x}, {self.y})\"\n",
        "\n",
        "# Example usage:\n",
        "v1 = Vector(2, 3)\n",
        "v2 = Vector(4, 5)\n",
        "\n",
        "v3 = v1 + v2  # Uses the __add__ method\n",
        "\n",
        "print(f\"Vector 1: {v1}\")\n",
        "print(f\"Vector 2: {v2}\")\n",
        "print(f\"Sum: {v3}\")\n"
      ],
      "metadata": {
        "colab": {
          "base_uri": "https://localhost:8080/"
        },
        "id": "rA-fXfwhTHhG",
        "outputId": "9b45fb2c-bf33-47b2-f456-f25b446cb8a9"
      },
      "execution_count": 6,
      "outputs": [
        {
          "output_type": "stream",
          "name": "stdout",
          "text": [
            "Vector 1: Vector(2, 3)\n",
            "Vector 2: Vector(4, 5)\n",
            "Sum: Vector(6, 8)\n"
          ]
        }
      ]
    },
    {
      "cell_type": "markdown",
      "source": [
        "11. Create a class Person with attributes name and age. Add a method greet\n",
        "     () that prints \"Hello, my name is {name} and I am {age} years old.\""
      ],
      "metadata": {
        "id": "Zp4q6EyeTWYm"
      }
    },
    {
      "cell_type": "code",
      "source": [
        "class Person:\n",
        "    def __init__(self, name, age):\n",
        "        self.name = name\n",
        "        self.age = age\n",
        "\n",
        "    def greet(self):\n",
        "        print(f\"Hello, my name is {self.name} and I am {self.age} years old.\")\n",
        "\n",
        "# Example usage:\n",
        "p1 = Person(\"Vivek\", 25)\n",
        "p2 = Person(\"Vivan\", 30)\n",
        "\n",
        "p1.greet()\n",
        "p2.greet()\n"
      ],
      "metadata": {
        "colab": {
          "base_uri": "https://localhost:8080/"
        },
        "id": "QYN-_m_4TfeF",
        "outputId": "6c49534f-3197-493a-da14-92d44c6d761c"
      },
      "execution_count": 7,
      "outputs": [
        {
          "output_type": "stream",
          "name": "stdout",
          "text": [
            "Hello, my name is Vivek and I am 25 years old.\n",
            "Hello, my name is Vivan and I am 30 years old.\n"
          ]
        }
      ]
    },
    {
      "cell_type": "markdown",
      "source": [
        "12. Implement a class Student with attributes name and grades. Create a\n",
        "     method average_grade() to compute the average of the grades."
      ],
      "metadata": {
        "id": "EIyxTzU_TzrE"
      }
    },
    {
      "cell_type": "code",
      "source": [
        "class Student:\n",
        "    def __init__(self, name, grades):\n",
        "        self.name = name\n",
        "        self.grades = grades  # Expecting a list of numbers\n",
        "\n",
        "    def average_grade(self):\n",
        "        if self.grades:\n",
        "            average = sum(self.grades) / len(self.grades)\n",
        "            return average\n",
        "        else:\n",
        "            return 0\n",
        "\n",
        "# Example usage:\n",
        "s1 = Student(\"Vivek\", [85, 90, 78, 92])\n",
        "s2 = Student(\"Vivan\", [70, 75, 80])\n",
        "\n",
        "print(f\"{s1.name}'s average grade: {s1.average_grade():.2f}\")\n",
        "print(f\"{s2.name}'s average grade: {s2.average_grade():.2f}\")\n"
      ],
      "metadata": {
        "colab": {
          "base_uri": "https://localhost:8080/"
        },
        "id": "InyGqlKGT6bu",
        "outputId": "e6ae349d-338f-49d1-aa6d-2c20c5e8416d"
      },
      "execution_count": 9,
      "outputs": [
        {
          "output_type": "stream",
          "name": "stdout",
          "text": [
            "Vivek's average grade: 86.25\n",
            "Vivan's average grade: 75.00\n"
          ]
        }
      ]
    },
    {
      "cell_type": "markdown",
      "source": [
        "13. Create a class Rectangle with methods set_dimensions() to set the\n",
        "     dimensions and area() to calculate the area."
      ],
      "metadata": {
        "id": "Vq_-qZJoUMql"
      }
    },
    {
      "cell_type": "code",
      "source": [
        "class Rectangle:\n",
        "    def __init__(self):\n",
        "        self.width = 0\n",
        "        self.height = 0\n",
        "\n",
        "    # Method to set dimensions\n",
        "    def set_dimensions(self, width, height):\n",
        "        self.width = width\n",
        "        self.height = height\n",
        "\n",
        "    # Method to calculate area\n",
        "    def area(self):\n",
        "        return self.width * self.height\n",
        "\n",
        "# Example usage:\n",
        "rect = Rectangle()\n",
        "rect.set_dimensions(5, 10)\n",
        "\n",
        "print(f\"Rectangle area: {rect.area()}\")\n"
      ],
      "metadata": {
        "colab": {
          "base_uri": "https://localhost:8080/"
        },
        "id": "oqvAED3RUVlK",
        "outputId": "4fe18678-d3cd-4413-b9c2-f33ff6b5d10c"
      },
      "execution_count": 10,
      "outputs": [
        {
          "output_type": "stream",
          "name": "stdout",
          "text": [
            "Rectangle area: 50\n"
          ]
        }
      ]
    },
    {
      "cell_type": "markdown",
      "source": [
        "14. Create a class Employee with a method calculate_salary() that computes\n",
        "     the salary based on hours worked and hourly rate. Create a derived class Manager that adds a bonus to the salary."
      ],
      "metadata": {
        "id": "9O9gZ1kIUZ4O"
      }
    },
    {
      "cell_type": "code",
      "source": [
        "# Base class\n",
        "class Employee:\n",
        "    def __init__(self, name, hours_worked, hourly_rate):\n",
        "        self.name = name\n",
        "        self.hours_worked = hours_worked\n",
        "        self.hourly_rate = hourly_rate\n",
        "\n",
        "    def calculate_salary(self):\n",
        "        return self.hours_worked * self.hourly_rate\n",
        "\n",
        "# Derived class\n",
        "class Manager(Employee):\n",
        "    def __init__(self, name, hours_worked, hourly_rate, bonus):\n",
        "        super().__init__(name, hours_worked, hourly_rate)\n",
        "        self.bonus = bonus\n",
        "\n",
        "    # Overriding method to include bonus\n",
        "    def calculate_salary(self):\n",
        "        base_salary = super().calculate_salary()\n",
        "        return base_salary + self.bonus\n",
        "\n",
        "# Example usage:\n",
        "emp = Employee(\"Vivek\", 40, 20)\n",
        "mgr = Manager(\"Vivan\", 45, 30, 500)\n",
        "\n",
        "print(f\"{emp.name}'s salary: ${emp.calculate_salary()}\")\n",
        "print(f\"{mgr.name}'s salary: ${mgr.calculate_salary()}\")\n"
      ],
      "metadata": {
        "colab": {
          "base_uri": "https://localhost:8080/"
        },
        "id": "wy65h2HrUgCb",
        "outputId": "9d81796b-6f77-490c-8770-03b22eccb39c"
      },
      "execution_count": 12,
      "outputs": [
        {
          "output_type": "stream",
          "name": "stdout",
          "text": [
            "Vivek's salary: $800\n",
            "Vivan's salary: $1850\n"
          ]
        }
      ]
    },
    {
      "cell_type": "markdown",
      "source": [
        "15. Create a class Product with attributes name, price, and quantity.\n",
        "     Implement a method total_price() that calculates the total price of the product."
      ],
      "metadata": {
        "id": "FlZXLVjBUrGU"
      }
    },
    {
      "cell_type": "code",
      "source": [
        "class Product:\n",
        "    def __init__(self, name, price, quantity):\n",
        "        self.name = name\n",
        "        self.price = price\n",
        "        self.quantity = quantity\n",
        "\n",
        "    def total_price(self):\n",
        "        return self.price * self.quantity\n",
        "\n",
        "# Example usage:\n",
        "product1 = Product(\"Laptop\", 1000, 3)\n",
        "product2 = Product(\"Smartphone\", 500, 5)\n",
        "\n",
        "print(f\"Total price of {product1.name}: ${product1.total_price()}\")\n",
        "print(f\"Total price of {product2.name}: ${product2.total_price()}\")\n"
      ],
      "metadata": {
        "colab": {
          "base_uri": "https://localhost:8080/"
        },
        "id": "9RPIxf9zUxX1",
        "outputId": "6c34119c-35d0-441c-848d-8383e598248c"
      },
      "execution_count": 13,
      "outputs": [
        {
          "output_type": "stream",
          "name": "stdout",
          "text": [
            "Total price of Laptop: $3000\n",
            "Total price of Smartphone: $2500\n"
          ]
        }
      ]
    },
    {
      "cell_type": "markdown",
      "source": [
        "16. Create a class Animal with an abstract method sound(). Create two\n",
        "     derived classes Cow and Sheep that implement the sound() method."
      ],
      "metadata": {
        "id": "nMBbHigEU4oH"
      }
    },
    {
      "cell_type": "code",
      "source": [
        "from abc import ABC, abstractmethod\n",
        "\n",
        "# Abstract base class\n",
        "class Animal(ABC):\n",
        "    @abstractmethod\n",
        "    def sound(self):\n",
        "        pass\n",
        "\n",
        "# Derived class Cow\n",
        "class Cow(Animal):\n",
        "    def sound(self):\n",
        "        return \"Moo\"\n",
        "\n",
        "# Derived class Sheep\n",
        "class Sheep(Animal):\n",
        "    def sound(self):\n",
        "        return \"Baa\"\n",
        "\n",
        "# Example usage:\n",
        "cow = Cow()\n",
        "sheep = Sheep()\n",
        "\n",
        "print(f\"Cow sound: {cow.sound()}\")\n",
        "print(f\"Sheep sound: {sheep.sound()}\")\n"
      ],
      "metadata": {
        "colab": {
          "base_uri": "https://localhost:8080/"
        },
        "id": "ulyX438uU_o5",
        "outputId": "7269d157-c7c5-4725-893c-adc41d2c1ec4"
      },
      "execution_count": 14,
      "outputs": [
        {
          "output_type": "stream",
          "name": "stdout",
          "text": [
            "Cow sound: Moo\n",
            "Sheep sound: Baa\n"
          ]
        }
      ]
    },
    {
      "cell_type": "markdown",
      "source": [
        "17. Create a class Book with attributes title, author, and year_published.\n",
        "     Add a method get_book_info() that returns a formatted string with the book's details."
      ],
      "metadata": {
        "id": "Ldy6my0JVFXD"
      }
    },
    {
      "cell_type": "code",
      "source": [
        "class Book:\n",
        "    def __init__(self, title, author, year_published):\n",
        "        self.title = title\n",
        "        self.author = author\n",
        "        self.year_published = year_published\n",
        "\n",
        "    def get_book_info(self):\n",
        "        return f\"Title: {self.title}\\nAuthor: {self.author}\\nYear Published: {self.year_published}\"\n",
        "\n",
        "# Example usage:\n",
        "book1 = Book(\"1984\", \"George Orwell\", 1949)\n",
        "book2 = Book(\"To Kill a Mockingbird\", \"Harper Lee\", 1960)\n",
        "\n",
        "print(book1.get_book_info())\n",
        "print()\n",
        "print(book2.get_book_info())\n"
      ],
      "metadata": {
        "colab": {
          "base_uri": "https://localhost:8080/"
        },
        "id": "2QBDaTK0VNPw",
        "outputId": "1cd818e3-0819-42c4-b8b0-2319e94fb120"
      },
      "execution_count": 15,
      "outputs": [
        {
          "output_type": "stream",
          "name": "stdout",
          "text": [
            "Title: 1984\n",
            "Author: George Orwell\n",
            "Year Published: 1949\n",
            "\n",
            "Title: To Kill a Mockingbird\n",
            "Author: Harper Lee\n",
            "Year Published: 1960\n"
          ]
        }
      ]
    },
    {
      "cell_type": "markdown",
      "source": [
        "18. Create a class House with attributes address and price. Create a\n",
        "     derived class Mansion that adds an attribute number_of_rooms."
      ],
      "metadata": {
        "id": "RHarcY37VUUD"
      }
    },
    {
      "cell_type": "code",
      "source": [
        "# Base class\n",
        "class House:\n",
        "    def __init__(self, address, price):\n",
        "        self.address = address\n",
        "        self.price = price\n",
        "\n",
        "    def get_details(self):\n",
        "        return f\"Address: {self.address}\\nPrice: ${self.price}\"\n",
        "\n",
        "# Derived class Mansion\n",
        "class Mansion(House):\n",
        "    def __init__(self, address, price, number_of_rooms):\n",
        "        super().__init__(address, price)\n",
        "        self.number_of_rooms = number_of_rooms\n",
        "\n",
        "    def get_details(self):\n",
        "        return f\"{super().get_details()}\\nNumber of Rooms: {self.number_of_rooms}\"\n",
        "\n",
        "# Example usage:\n",
        "house = House(\"123 Oak St\", 250000)\n",
        "mansion = Mansion(\"456 Beverly Hills\", 5000000, 10)\n",
        "\n",
        "print(\"House Details:\")\n",
        "print(house.get_details())\n",
        "print(\"\\nMansion Details:\")\n",
        "print(mansion.get_details())\n"
      ],
      "metadata": {
        "colab": {
          "base_uri": "https://localhost:8080/"
        },
        "id": "aOK0_qECVatO",
        "outputId": "e1204f00-1920-4380-ec48-4466eb194727"
      },
      "execution_count": 16,
      "outputs": [
        {
          "output_type": "stream",
          "name": "stdout",
          "text": [
            "House Details:\n",
            "Address: 123 Oak St\n",
            "Price: $250000\n",
            "\n",
            "Mansion Details:\n",
            "Address: 456 Beverly Hills\n",
            "Price: $5000000\n",
            "Number of Rooms: 10\n"
          ]
        }
      ]
    }
  ]
}